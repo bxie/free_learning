{
 "cells": [
  {
   "cell_type": "markdown",
   "metadata": {},
   "source": [
    "# Web Scraping with Python\n",
    "Scraping NBA Data\n",
    "\n",
    "http://nyloncalculus.com/2015/09/07/nylon-calculus-101-data-scraping-with-python/\n",
    "\n",
    "Feb 2016"
   ]
  },
  {
   "cell_type": "code",
   "execution_count": 1,
   "metadata": {
    "collapsed": false
   },
   "outputs": [
    {
     "name": "stdout",
     "output_type": "stream",
     "text": [
      "('Python version:', sys.version_info(major=2, minor=7, micro=9, releaselevel='final', serial=0))\n",
      "('Urllib.request version:', '1.17')\n",
      "('BeautifulSoup version:', '4.3.2')\n",
      "('Pandas version:', '0.15.2')\n"
     ]
    }
   ],
   "source": [
    "import sys\n",
    "import urllib\n",
    "from urllib import urlopen\n",
    "import bs4\n",
    "from bs4 import BeautifulSoup #to install: \"pip install BeautifulSoup\"\n",
    "import pandas as pd #to install: http://pandas.pydata.org/getpandas.html\n",
    "import html5lib #to install: \"pip install html5lib\"\n",
    "\n",
    "print('Python version:', sys.version_info)\n",
    "print('Urllib.request version:', urllib.__version__)\n",
    "print('BeautifulSoup version:', bs4.__version__)\n",
    "print('Pandas version:', pd.__version__)"
   ]
  },
  {
   "cell_type": "code",
   "execution_count": 2,
   "metadata": {
    "collapsed": false
   },
   "outputs": [
    {
     "data": {
      "text/plain": [
       "bs4.BeautifulSoup"
      ]
     },
     "execution_count": 2,
     "metadata": {},
     "output_type": "execute_result"
    }
   ],
   "source": [
    "\"\"\"\n",
    "Getting data into bs4\n",
    "\"\"\"\n",
    "\n",
    "#url to scrape from\n",
    "url = \"http://www.basketball-reference.com/draft/NBA_2014.html\"\n",
    "\n",
    "#html from given url\n",
    "html = urlopen(url)\n",
    "\n",
    "soup = BeautifulSoup(html)\n",
    "\n",
    "type(soup)"
   ]
  },
  {
   "cell_type": "code",
   "execution_count": 3,
   "metadata": {
    "collapsed": false
   },
   "outputs": [],
   "source": [
    "\"\"\"\n",
    "Getting Col Headers\n",
    "\"\"\"\n",
    "\n",
    "#column headers in 2nd row\n",
    "col_headers_raw = soup.findAll('tr', limit=2)[1].findAll('th')\n",
    "\n",
    "#getting text from each col header\n",
    "col_headers = [th.getText() for th in col_headers_raw]"
   ]
  },
  {
   "cell_type": "code",
   "execution_count": 4,
   "metadata": {
    "collapsed": false
   },
   "outputs": [
    {
     "data": {
      "text/plain": [
       "True"
      ]
     },
     "execution_count": 4,
     "metadata": {},
     "output_type": "execute_result"
    }
   ],
   "source": [
    "\"\"\"\n",
    "Getting Data\n",
    "\"\"\"\n",
    "\n",
    "data_rows = soup.findAll('tr')[2:] #skip first 2 (header) rows\n",
    "\n",
    "#2d array => nested list comp.\n",
    "player_data = [[td.getText() for td in data_rows[i].findAll('td')] \n",
    "               for i in range(len(data_rows))]\n",
    "\n",
    "#equivalent action\n",
    "player_data_02 = []\n",
    "\n",
    "for i in range(len(data_rows)):\n",
    "    row =[]\n",
    "    for td in data_rows[i].findAll('td'):\n",
    "        row.append(td.getText())\n",
    "    player_data_02.append(row)\n",
    "    \n",
    "player_data == player_data_02"
   ]
  },
  {
   "cell_type": "code",
   "execution_count": 5,
   "metadata": {
    "collapsed": false
   },
   "outputs": [
    {
     "data": {
      "text/html": [
       "<div style=\"max-height:1000px;max-width:1500px;overflow:auto;\">\n",
       "<table border=\"1\" class=\"dataframe\">\n",
       "  <thead>\n",
       "    <tr style=\"text-align: right;\">\n",
       "      <th></th>\n",
       "      <th>Rk</th>\n",
       "      <th>Pk</th>\n",
       "      <th>Tm</th>\n",
       "      <th>Player</th>\n",
       "      <th>College</th>\n",
       "      <th>Yrs</th>\n",
       "      <th>G</th>\n",
       "      <th>MP</th>\n",
       "      <th>PTS</th>\n",
       "      <th>TRB</th>\n",
       "      <th>...</th>\n",
       "      <th>3P%</th>\n",
       "      <th>FT%</th>\n",
       "      <th>MP</th>\n",
       "      <th>PTS</th>\n",
       "      <th>TRB</th>\n",
       "      <th>AST</th>\n",
       "      <th>WS</th>\n",
       "      <th>WS/48</th>\n",
       "      <th>BPM</th>\n",
       "      <th>VORP</th>\n",
       "    </tr>\n",
       "  </thead>\n",
       "  <tbody>\n",
       "    <tr>\n",
       "      <th>0</th>\n",
       "      <td> 1</td>\n",
       "      <td> 1</td>\n",
       "      <td> CLE</td>\n",
       "      <td> Andrew Wiggins</td>\n",
       "      <td> University of Kansas</td>\n",
       "      <td> 2</td>\n",
       "      <td> 140</td>\n",
       "      <td> 5006</td>\n",
       "      <td> 2594</td>\n",
       "      <td> 585</td>\n",
       "      <td>...</td>\n",
       "      <td> .284</td>\n",
       "      <td> .755</td>\n",
       "      <td> 35.8</td>\n",
       "      <td> 18.5</td>\n",
       "      <td> 4.2</td>\n",
       "      <td> 2.0</td>\n",
       "      <td> 4.8</td>\n",
       "      <td> .046</td>\n",
       "      <td> -2.3</td>\n",
       "      <td> -0.4</td>\n",
       "    </tr>\n",
       "    <tr>\n",
       "      <th>1</th>\n",
       "      <td> 2</td>\n",
       "      <td> 2</td>\n",
       "      <td> MIL</td>\n",
       "      <td>  Jabari Parker</td>\n",
       "      <td>      Duke University</td>\n",
       "      <td> 2</td>\n",
       "      <td>  78</td>\n",
       "      <td> 2323</td>\n",
       "      <td>  951</td>\n",
       "      <td> 407</td>\n",
       "      <td>...</td>\n",
       "      <td> .160</td>\n",
       "      <td> .748</td>\n",
       "      <td> 29.8</td>\n",
       "      <td> 12.2</td>\n",
       "      <td> 5.2</td>\n",
       "      <td> 1.6</td>\n",
       "      <td> 3.7</td>\n",
       "      <td> .077</td>\n",
       "      <td> -2.1</td>\n",
       "      <td> -0.1</td>\n",
       "    </tr>\n",
       "    <tr>\n",
       "      <th>2</th>\n",
       "      <td> 3</td>\n",
       "      <td> 3</td>\n",
       "      <td> PHI</td>\n",
       "      <td>    Joel Embiid</td>\n",
       "      <td> University of Kansas</td>\n",
       "      <td>  </td>\n",
       "      <td>    </td>\n",
       "      <td>     </td>\n",
       "      <td>     </td>\n",
       "      <td>    </td>\n",
       "      <td>...</td>\n",
       "      <td>     </td>\n",
       "      <td>     </td>\n",
       "      <td>     </td>\n",
       "      <td>     </td>\n",
       "      <td>    </td>\n",
       "      <td>    </td>\n",
       "      <td>    </td>\n",
       "      <td>     </td>\n",
       "      <td>     </td>\n",
       "      <td>     </td>\n",
       "    </tr>\n",
       "  </tbody>\n",
       "</table>\n",
       "<p>3 rows × 22 columns</p>\n",
       "</div>"
      ],
      "text/plain": [
       "  Rk Pk   Tm          Player               College Yrs    G    MP   PTS  TRB  \\\n",
       "0  1  1  CLE  Andrew Wiggins  University of Kansas   2  140  5006  2594  585   \n",
       "1  2  2  MIL   Jabari Parker       Duke University   2   78  2323   951  407   \n",
       "2  3  3  PHI     Joel Embiid  University of Kansas                             \n",
       "\n",
       "   ...    3P%   FT%    MP   PTS  TRB  AST   WS WS/48   BPM  VORP  \n",
       "0  ...   .284  .755  35.8  18.5  4.2  2.0  4.8  .046  -2.3  -0.4  \n",
       "1  ...   .160  .748  29.8  12.2  5.2  1.6  3.7  .077  -2.1  -0.1  \n",
       "2  ...                                                            \n",
       "\n",
       "[3 rows x 22 columns]"
      ]
     },
     "execution_count": 5,
     "metadata": {},
     "output_type": "execute_result"
    }
   ],
   "source": [
    "\"\"\"\n",
    "data in pandas df\n",
    "\"\"\"\n",
    "\n",
    "df = pd.DataFrame(player_data, columns=col_headers)\n",
    "\n",
    "df.head(3) #preview first 3 rows. note missing data."
   ]
  },
  {
   "cell_type": "code",
   "execution_count": 6,
   "metadata": {
    "collapsed": false
   },
   "outputs": [
    {
     "data": {
      "text/html": [
       "<div style=\"max-height:1000px;max-width:1500px;overflow:auto;\">\n",
       "<table border=\"1\" class=\"dataframe\">\n",
       "  <thead>\n",
       "    <tr style=\"text-align: right;\">\n",
       "      <th></th>\n",
       "      <th>Rk</th>\n",
       "      <th>Pk</th>\n",
       "      <th>Tm</th>\n",
       "      <th>Player</th>\n",
       "      <th>College</th>\n",
       "      <th>Yrs</th>\n",
       "      <th>G</th>\n",
       "      <th>MP</th>\n",
       "      <th>PTS</th>\n",
       "      <th>TRB</th>\n",
       "      <th>...</th>\n",
       "      <th>3P%</th>\n",
       "      <th>FT%</th>\n",
       "      <th>MP</th>\n",
       "      <th>PTS</th>\n",
       "      <th>TRB</th>\n",
       "      <th>AST</th>\n",
       "      <th>WS</th>\n",
       "      <th>WS/48</th>\n",
       "      <th>BPM</th>\n",
       "      <th>VORP</th>\n",
       "    </tr>\n",
       "  </thead>\n",
       "  <tbody>\n",
       "  </tbody>\n",
       "</table>\n",
       "<p>0 rows × 22 columns</p>\n",
       "</div>"
      ],
      "text/plain": [
       "Empty DataFrame\n",
       "Columns: [Rk, Pk, Tm, Player, College, Yrs, G, MP, PTS, TRB, AST, FG%, 3P%, FT%, MP, PTS, TRB, AST, WS, WS/48, BPM, VORP]\n",
       "Index: []\n",
       "\n",
       "[0 rows x 22 columns]"
      ]
     },
     "execution_count": 6,
     "metadata": {},
     "output_type": "execute_result"
    }
   ],
   "source": [
    "\"\"\"\n",
    "Cleaning data: Removing empty rows\n",
    "\"\"\"\n",
    "\n",
    "#removing rows w/o player names\n",
    "df = df[df.Player.notnull()] \n",
    "\n",
    "#check no empty rows\n",
    "df[df['Pk'].isnull()]"
   ]
  },
  {
   "cell_type": "code",
   "execution_count": 7,
   "metadata": {
    "collapsed": false
   },
   "outputs": [
    {
     "name": "stdout",
     "output_type": "stream",
     "text": [
      "Index([u'Rk', u'Pk', u'Tm', u'Player', u'College', u'Yrs', u'G', u'MP', u'PTS', u'TRB', u'AST', u'FG_Perc', u'3P_Perc', u'FT_Perc', u'MP_per_G', u'PTS_per_G', u'TRB_per_G', u'AST_per_G', u'WS', u'WS_per_48', u'BPM', u'VORP'], dtype='object')\n"
     ]
    }
   ],
   "source": [
    "\"\"\"\n",
    "Cleaning data: Renaming columns\n",
    "\"\"\"\n",
    "\n",
    "#replace \"WS/48\"\n",
    "df.rename(columns={'WS/48':'WS_per_48'}, inplace=True)\n",
    "\n",
    "#replace \"%\"\n",
    "df.columns = [name.replace('%', '_Perc') for name in df.columns]\n",
    "\n",
    "#add \"per_G\" to per game columns (14-17)\n",
    "df.columns.values[14:18] = [name + \"_per_G\" for name in df.columns.values[14:18]]\n",
    "\n",
    "print df.columns #get names of all columns"
   ]
  },
  {
   "cell_type": "code",
   "execution_count": 8,
   "metadata": {
    "collapsed": false
   },
   "outputs": [
    {
     "data": {
      "text/plain": [
       "Rk             int64\n",
       "Pk             int64\n",
       "Tm            object\n",
       "Player        object\n",
       "College       object\n",
       "Yrs            int64\n",
       "G              int64\n",
       "MP             int64\n",
       "PTS            int64\n",
       "TRB            int64\n",
       "AST            int64\n",
       "FG_Perc      float64\n",
       "3P_Perc      float64\n",
       "FT_Perc      float64\n",
       "MP_per_G     float64\n",
       "PTS_per_G    float64\n",
       "TRB_per_G    float64\n",
       "AST_per_G    float64\n",
       "WS           float64\n",
       "WS_per_48    float64\n",
       "BPM          float64\n",
       "VORP         float64\n",
       "dtype: object"
      ]
     },
     "execution_count": 8,
     "metadata": {},
     "output_type": "execute_result"
    }
   ],
   "source": [
    "\"\"\"\n",
    "Changing Data Types\n",
    "\"\"\"\n",
    "\n",
    "#convert numeric data types\n",
    "df = df.convert_objects(convert_numeric=True)\n",
    "\n",
    "#fill missing numbers w/ 0\n",
    "df= df[:].fillna(0)\n",
    "\n",
    "#setting years and assists to int\n",
    "df.loc[:,'Yrs':'AST'] = df.loc[:,'Yrs':'AST'].astype(int)\n",
    "\n",
    "#look at data types\n",
    "df.dtypes"
   ]
  },
  {
   "cell_type": "code",
   "execution_count": 9,
   "metadata": {
    "collapsed": false
   },
   "outputs": [
    {
     "data": {
      "text/plain": [
       "Index([u'Draft_Yr', u'Pk', u'Tm', u'Player', u'College', u'Yrs', u'G', u'MP', u'PTS', u'TRB', u'AST', u'FG_Perc', u'3P_Perc', u'FT_Perc', u'MP_per_G', u'PTS_per_G', u'TRB_per_G', u'AST_per_G', u'WS', u'WS_per_48', u'BPM', u'VORP'], dtype='object')"
      ]
     },
     "execution_count": 9,
     "metadata": {},
     "output_type": "execute_result"
    }
   ],
   "source": [
    "\"\"\"\n",
    "Adding and Deleting Columns\n",
    "\"\"\"\n",
    "\n",
    "#add column\n",
    "df.insert(0, 'Draft_Yr', 2014)\n",
    "\n",
    "#remove column w/ redundant info\n",
    "df.drop('Rk', axis='columns', inplace=True)\n",
    "\n",
    "df.columns"
   ]
  },
  {
   "cell_type": "code",
   "execution_count": 10,
   "metadata": {
    "collapsed": false
   },
   "outputs": [
    {
     "data": {
      "text/html": [
       "<div style=\"max-height:1000px;max-width:1500px;overflow:auto;\">\n",
       "<table border=\"1\" class=\"dataframe\">\n",
       "  <thead>\n",
       "    <tr style=\"text-align: right;\">\n",
       "      <th></th>\n",
       "      <th>Draft_Yr</th>\n",
       "      <th>Rk</th>\n",
       "      <th>Pk</th>\n",
       "      <th>Tm</th>\n",
       "      <th>Player</th>\n",
       "      <th>College</th>\n",
       "      <th>Yrs</th>\n",
       "      <th>G</th>\n",
       "      <th>MP</th>\n",
       "      <th>PTS</th>\n",
       "      <th>...</th>\n",
       "      <th>3P%</th>\n",
       "      <th>FT%</th>\n",
       "      <th>MP</th>\n",
       "      <th>PTS</th>\n",
       "      <th>TRB</th>\n",
       "      <th>AST</th>\n",
       "      <th>WS</th>\n",
       "      <th>WS/48</th>\n",
       "      <th>BPM</th>\n",
       "      <th>VORP</th>\n",
       "    </tr>\n",
       "  </thead>\n",
       "  <tbody>\n",
       "    <tr>\n",
       "      <th>0</th>\n",
       "      <td> 1966</td>\n",
       "      <td> 1</td>\n",
       "      <td> 1</td>\n",
       "      <td> NYK</td>\n",
       "      <td> Cazzie Russell</td>\n",
       "      <td>  University of Michigan</td>\n",
       "      <td> 12</td>\n",
       "      <td> 817</td>\n",
       "      <td> 22213</td>\n",
       "      <td> 12377</td>\n",
       "      <td>...</td>\n",
       "      <td> </td>\n",
       "      <td> .827</td>\n",
       "      <td> 27.2</td>\n",
       "      <td> 15.1</td>\n",
       "      <td>  3.8</td>\n",
       "      <td> 2.2</td>\n",
       "      <td> 51.7</td>\n",
       "      <td> .112</td>\n",
       "      <td> -2.0</td>\n",
       "      <td>  0.1</td>\n",
       "    </tr>\n",
       "    <tr>\n",
       "      <th>1</th>\n",
       "      <td> 1966</td>\n",
       "      <td> 2</td>\n",
       "      <td> 2</td>\n",
       "      <td> DET</td>\n",
       "      <td>      Dave Bing</td>\n",
       "      <td>     Syracuse University</td>\n",
       "      <td> 12</td>\n",
       "      <td> 901</td>\n",
       "      <td> 32769</td>\n",
       "      <td> 18327</td>\n",
       "      <td>...</td>\n",
       "      <td> </td>\n",
       "      <td> .775</td>\n",
       "      <td> 36.4</td>\n",
       "      <td> 20.3</td>\n",
       "      <td>  3.8</td>\n",
       "      <td> 6.0</td>\n",
       "      <td> 68.8</td>\n",
       "      <td> .101</td>\n",
       "      <td>  0.6</td>\n",
       "      <td>  8.5</td>\n",
       "    </tr>\n",
       "    <tr>\n",
       "      <th>2</th>\n",
       "      <td> 1966</td>\n",
       "      <td> 3</td>\n",
       "      <td> 3</td>\n",
       "      <td> SFW</td>\n",
       "      <td>      Clyde Lee</td>\n",
       "      <td>   Vanderbilt University</td>\n",
       "      <td> 10</td>\n",
       "      <td> 742</td>\n",
       "      <td> 19885</td>\n",
       "      <td>  5733</td>\n",
       "      <td>...</td>\n",
       "      <td> </td>\n",
       "      <td> .614</td>\n",
       "      <td> 26.8</td>\n",
       "      <td>  7.7</td>\n",
       "      <td> 10.3</td>\n",
       "      <td> 1.1</td>\n",
       "      <td> 33.5</td>\n",
       "      <td> .081</td>\n",
       "      <td> -2.4</td>\n",
       "      <td> -0.6</td>\n",
       "    </tr>\n",
       "    <tr>\n",
       "      <th>3</th>\n",
       "      <td> 1966</td>\n",
       "      <td> 4</td>\n",
       "      <td> 4</td>\n",
       "      <td> STL</td>\n",
       "      <td>     Lou Hudson</td>\n",
       "      <td> University of Minnesota</td>\n",
       "      <td> 13</td>\n",
       "      <td> 890</td>\n",
       "      <td> 29794</td>\n",
       "      <td> 17940</td>\n",
       "      <td>...</td>\n",
       "      <td> </td>\n",
       "      <td> .797</td>\n",
       "      <td> 33.5</td>\n",
       "      <td> 20.2</td>\n",
       "      <td>  4.4</td>\n",
       "      <td> 2.7</td>\n",
       "      <td> 81.0</td>\n",
       "      <td> .131</td>\n",
       "      <td>  0.1</td>\n",
       "      <td>  5.9</td>\n",
       "    </tr>\n",
       "    <tr>\n",
       "      <th>4</th>\n",
       "      <td> 1966</td>\n",
       "      <td> 5</td>\n",
       "      <td> 5</td>\n",
       "      <td> BAL</td>\n",
       "      <td>     Jack Marin</td>\n",
       "      <td>         Duke University</td>\n",
       "      <td> 11</td>\n",
       "      <td> 849</td>\n",
       "      <td> 24590</td>\n",
       "      <td> 12541</td>\n",
       "      <td>...</td>\n",
       "      <td> </td>\n",
       "      <td> .843</td>\n",
       "      <td> 29.0</td>\n",
       "      <td> 14.8</td>\n",
       "      <td>  5.2</td>\n",
       "      <td> 2.1</td>\n",
       "      <td> 59.3</td>\n",
       "      <td> .116</td>\n",
       "      <td> -2.8</td>\n",
       "      <td> -1.4</td>\n",
       "    </tr>\n",
       "  </tbody>\n",
       "</table>\n",
       "<p>5 rows × 23 columns</p>\n",
       "</div>"
      ],
      "text/plain": [
       "   Draft_Yr Rk Pk   Tm          Player                  College Yrs    G  \\\n",
       "0      1966  1  1  NYK  Cazzie Russell   University of Michigan  12  817   \n",
       "1      1966  2  2  DET       Dave Bing      Syracuse University  12  901   \n",
       "2      1966  3  3  SFW       Clyde Lee    Vanderbilt University  10  742   \n",
       "3      1966  4  4  STL      Lou Hudson  University of Minnesota  13  890   \n",
       "4      1966  5  5  BAL      Jack Marin          Duke University  11  849   \n",
       "\n",
       "      MP    PTS  ...  3P%   FT%    MP   PTS   TRB  AST    WS WS/48   BPM  VORP  \n",
       "0  22213  12377  ...       .827  27.2  15.1   3.8  2.2  51.7  .112  -2.0   0.1  \n",
       "1  32769  18327  ...       .775  36.4  20.3   3.8  6.0  68.8  .101   0.6   8.5  \n",
       "2  19885   5733  ...       .614  26.8   7.7  10.3  1.1  33.5  .081  -2.4  -0.6  \n",
       "3  29794  17940  ...       .797  33.5  20.2   4.4  2.7  81.0  .131   0.1   5.9  \n",
       "4  24590  12541  ...       .843  29.0  14.8   5.2  2.1  59.3  .116  -2.8  -1.4  \n",
       "\n",
       "[5 rows x 23 columns]"
      ]
     },
     "execution_count": 10,
     "metadata": {},
     "output_type": "execute_result"
    }
   ],
   "source": [
    "\"\"\"\n",
    "Scraping and Cleaning for all Drafts 1966 - 2015\n",
    "(Takes awhile to run...)\n",
    "\"\"\"\n",
    "\n",
    "url_template = \"http://www.basketball-reference.com/draft/NBA_{year}.html\"\n",
    "\n",
    "draft_df = pd.DataFrame()\n",
    "\n",
    "for year in range(1966, 2016):\n",
    "    url = url_template.format(year=year)\n",
    "    html = urlopen(url)\n",
    "    \n",
    "    #if you get an error here: \"pip install --upgrade lxml\"\n",
    "    soup = BeautifulSoup(html, 'html5lib')\n",
    "    \n",
    "    #get our player data\n",
    "    data_rows = soup.findAll('tr')[2:]\n",
    "    player_data = [[td.getText() for td in data_rows[i].findAll('td')]\n",
    "                   for i in range(len(data_rows))]\n",
    "    \n",
    "    \n",
    "    #turn yearly data into a DF\n",
    "    year_df = pd.DataFrame(player_data, columns=col_headers)\n",
    "    \n",
    "    #create and insert Draft_Yr column\n",
    "    year_df.insert(0, 'Draft_Yr', year)\n",
    "    \n",
    "    #append to big df\n",
    "    draft_df = draft_df.append(year_df, ignore_index=True)\n",
    "\n",
    "draft_df.head()"
   ]
  },
  {
   "cell_type": "code",
   "execution_count": 11,
   "metadata": {
    "collapsed": false,
    "scrolled": true
   },
   "outputs": [
    {
     "name": "stdout",
     "output_type": "stream",
     "text": [
      "Index([u'Draft_Yr', u'Pk', u'Tm', u'Player', u'College', u'Yrs', u'G', u'MP', u'PTS', u'TRB', u'AST', u'FG_Perc', u'3P_Perc', u'FT_Perc', u'MP_per_G', u'PTS_per_G', u'TRB_per_G', u'AST_per_G', u'WS', u'WS_per_48', u'BPM', u'VORP'], dtype='object')\n",
      "Draft_Yr       int64\n",
      "Pk             int64\n",
      "Tm            object\n",
      "Player        object\n",
      "College       object\n",
      "Yrs            int64\n",
      "G              int64\n",
      "MP             int64\n",
      "PTS            int64\n",
      "TRB            int64\n",
      "AST            int64\n",
      "FG_Perc      float64\n",
      "3P_Perc      float64\n",
      "FT_Perc      float64\n",
      "MP_per_G     float64\n",
      "PTS_per_G    float64\n",
      "TRB_per_G    float64\n",
      "AST_per_G    float64\n",
      "WS           float64\n",
      "WS_per_48    float64\n",
      "BPM          float64\n",
      "VORP         float64\n",
      "dtype: object\n"
     ]
    }
   ],
   "source": [
    "\"\"\"\n",
    "Cleaning Data\n",
    "\"\"\"\n",
    "\n",
    "#get rid of empty rows\n",
    "draft_df = draft_df[draft_df.Player.notnull()]\n",
    "\n",
    "#proper type\n",
    "draft_df = draft_df.convert_objects(convert_numeric=True)\n",
    "\n",
    "#replace NaN w/ 0s\n",
    "draft_df = draft_df[:].fillna(0)\n",
    "\n",
    "#rename columns\n",
    "draft_df.rename(columns={'WS/48':'WS_per_48'}, inplace=True)\n",
    "\n",
    "#change % symbol\n",
    "draft_df.columns = [name.replace('%', '_Perc') for name in draft_df.columns.values]\n",
    "\n",
    "#add per_G to per game stats\n",
    "draft_df.columns.values[15:19] = [name + \"_per_G\" for name in draft_df.columns[15:19]]\n",
    "\n",
    "#change data types to int\n",
    "draft_df.loc[:, 'Yrs':'AST'] = draft_df.loc[:, 'Yrs':'AST'].astype(int)\n",
    "draft_df['Pk'] = draft_df['Pk'].astype(int)\n",
    "\n",
    "#delete the 'Rk' column\n",
    "draft_df.drop('Rk', axis='columns', inplace=True)\n",
    "\n",
    "print draft_df.columns\n",
    "print draft_df.dtypes"
   ]
  },
  {
   "cell_type": "code",
   "execution_count": 12,
   "metadata": {
    "collapsed": false
   },
   "outputs": [
    {
     "name": "stdout",
     "output_type": "stream",
     "text": [
      "done\n"
     ]
    }
   ],
   "source": [
    "\"\"\"\n",
    "Writing Data to CSV\n",
    "\"\"\"\n",
    "draft_df.to_csv(\"draft_data_1966_to_2015.csv\")\n",
    "print 'done'"
   ]
  },
  {
   "cell_type": "code",
   "execution_count": 13,
   "metadata": {
    "collapsed": false
   },
   "outputs": [
    {
     "data": {
      "text/plain": [
       "<matplotlib.collections.PathCollection at 0x10c63a790>"
      ]
     },
     "execution_count": 13,
     "metadata": {},
     "output_type": "execute_result"
    },
    {
     "name": "stderr",
     "output_type": "stream",
     "text": [
      "/Users/bxie/anaconda/lib/python2.7/site-packages/matplotlib/collections.py:571: FutureWarning: elementwise comparison failed; returning scalar instead, but in the future will perform elementwise comparison\n",
      "  if self._edgecolors == str('face'):\n"
     ]
    },
    {
     "data": {
      "image/png": "[encoded data removed]",
      "text/plain": [
       "<matplotlib.figure.Figure at 0x10d412350>"
      ]
     },
     "metadata": {},
     "output_type": "display_data"
    }
   ],
   "source": [
    "\"\"\"\n",
    "Bonus! Basic Visualization\n",
    "\"\"\"\n",
    "\n",
    "#plotting\n",
    "import matplotlib.pyplot as plt\n",
    "    \n",
    "#making plots look pretty\n",
    "%matplotlib inline\n",
    "# matplotlib.style.use('ggplot')\n",
    "# pd.options.display.mpl_style = 'default'\n",
    "\n",
    "#grouping players by pick, ignoring those w/ 0 ppg (missing data)\n",
    "grouped_rk = draft_df[draft_df.PTS_per_G>0].groupby('Pk')\n",
    "\n",
    "#getting mean points per game of each pick\n",
    "avg_ppg = grouped_rk['PTS_per_G'].mean()\n",
    "\n",
    "#plotting Avg PPG by Pick Number\n",
    "plt.scatter(avg_ppg.index, avg_ppg)\n",
    "\n",
    "#Noise at picks after 100 probably due to dirty data (I filtered out players w/ 0 ppg since it was missing data)\n",
    "\n",
    "#NB: Had issues adding labels and title to plot...IDK why"
   ]
  }
 ],
 "metadata": {
  "kernelspec": {
   "display_name": "Python 2",
   "language": "python",
   "name": "python2"
  },
  "language_info": {
   "codemirror_mode": {
    "name": "ipython",
    "version": 2
   },
   "file_extension": ".py",
   "mimetype": "text/x-python",
   "name": "python",
   "nbconvert_exporter": "python",
   "pygments_lexer": "ipython2",
   "version": "2.7.9"
  }
 },
 "nbformat": 4,
 "nbformat_minor": 0
}
